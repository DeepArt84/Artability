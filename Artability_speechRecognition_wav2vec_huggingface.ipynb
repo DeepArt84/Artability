{
  "nbformat": 4,
  "nbformat_minor": 0,
  "metadata": {
    "colab": {
      "name": "Artability_speechRecognition_wav2vec_huggingface.ipynb",
      "provenance": [],
      "collapsed_sections": [],
      "include_colab_link": true
    },
    "kernelspec": {
      "name": "python3",
      "display_name": "Python 3"
    },
    "language_info": {
      "name": "python"
    },
    "widgets": {
      "application/vnd.jupyter.widget-state+json": {
        "379c48bd97384732ae4b3bba49d3d18a": {
          "model_module": "@jupyter-widgets/controls",
          "model_name": "HBoxModel",
          "model_module_version": "1.5.0",
          "state": {
            "_view_name": "HBoxView",
            "_dom_classes": [],
            "_model_name": "HBoxModel",
            "_view_module": "@jupyter-widgets/controls",
            "_model_module_version": "1.5.0",
            "_view_count": null,
            "_view_module_version": "1.5.0",
            "box_style": "",
            "layout": "IPY_MODEL_b887e9cc44294d41b13b8c4dac112ff5",
            "_model_module": "@jupyter-widgets/controls",
            "children": [
              "IPY_MODEL_418af0729e1f45eab50d4a0b5aec37bb",
              "IPY_MODEL_eddbac65b7804fb6b1a9b61c6c116dec",
              "IPY_MODEL_b5153a61289c4db389d77c042a44ed99"
            ]
          }
        },
        "b887e9cc44294d41b13b8c4dac112ff5": {
          "model_module": "@jupyter-widgets/base",
          "model_name": "LayoutModel",
          "model_module_version": "1.2.0",
          "state": {
            "_view_name": "LayoutView",
            "grid_template_rows": null,
            "right": null,
            "justify_content": null,
            "_view_module": "@jupyter-widgets/base",
            "overflow": null,
            "_model_module_version": "1.2.0",
            "_view_count": null,
            "flex_flow": null,
            "width": null,
            "min_width": null,
            "border": null,
            "align_items": null,
            "bottom": null,
            "_model_module": "@jupyter-widgets/base",
            "top": null,
            "grid_column": null,
            "overflow_y": null,
            "overflow_x": null,
            "grid_auto_flow": null,
            "grid_area": null,
            "grid_template_columns": null,
            "flex": null,
            "_model_name": "LayoutModel",
            "justify_items": null,
            "grid_row": null,
            "max_height": null,
            "align_content": null,
            "visibility": null,
            "align_self": null,
            "height": null,
            "min_height": null,
            "padding": null,
            "grid_auto_rows": null,
            "grid_gap": null,
            "max_width": null,
            "order": null,
            "_view_module_version": "1.2.0",
            "grid_template_areas": null,
            "object_position": null,
            "object_fit": null,
            "grid_auto_columns": null,
            "margin": null,
            "display": null,
            "left": null
          }
        },
        "418af0729e1f45eab50d4a0b5aec37bb": {
          "model_module": "@jupyter-widgets/controls",
          "model_name": "HTMLModel",
          "model_module_version": "1.5.0",
          "state": {
            "_view_name": "HTMLView",
            "style": "IPY_MODEL_f3860697ee204ad78c5f6b9625285a44",
            "_dom_classes": [],
            "description": "",
            "_model_name": "HTMLModel",
            "placeholder": "​",
            "_view_module": "@jupyter-widgets/controls",
            "_model_module_version": "1.5.0",
            "value": "Downloading: 100%",
            "_view_count": null,
            "_view_module_version": "1.5.0",
            "description_tooltip": null,
            "_model_module": "@jupyter-widgets/controls",
            "layout": "IPY_MODEL_9b642ca035a941dc8bf28ff93c4eed9d"
          }
        },
        "eddbac65b7804fb6b1a9b61c6c116dec": {
          "model_module": "@jupyter-widgets/controls",
          "model_name": "FloatProgressModel",
          "model_module_version": "1.5.0",
          "state": {
            "_view_name": "ProgressView",
            "style": "IPY_MODEL_50b1d2f2f06447518348d0849ac52c0e",
            "_dom_classes": [],
            "description": "",
            "_model_name": "FloatProgressModel",
            "bar_style": "success",
            "max": 291,
            "_view_module": "@jupyter-widgets/controls",
            "_model_module_version": "1.5.0",
            "value": 291,
            "_view_count": null,
            "_view_module_version": "1.5.0",
            "orientation": "horizontal",
            "min": 0,
            "description_tooltip": null,
            "_model_module": "@jupyter-widgets/controls",
            "layout": "IPY_MODEL_c1c2528861324ca8a7e6d021c08b58a1"
          }
        },
        "b5153a61289c4db389d77c042a44ed99": {
          "model_module": "@jupyter-widgets/controls",
          "model_name": "HTMLModel",
          "model_module_version": "1.5.0",
          "state": {
            "_view_name": "HTMLView",
            "style": "IPY_MODEL_d038ce1dd3ca44dd9038b75007bdc231",
            "_dom_classes": [],
            "description": "",
            "_model_name": "HTMLModel",
            "placeholder": "​",
            "_view_module": "@jupyter-widgets/controls",
            "_model_module_version": "1.5.0",
            "value": " 291/291 [00:00&lt;00:00, 4.51kB/s]",
            "_view_count": null,
            "_view_module_version": "1.5.0",
            "description_tooltip": null,
            "_model_module": "@jupyter-widgets/controls",
            "layout": "IPY_MODEL_1d31e8e359c642a8837fb4b681ad655b"
          }
        },
        "f3860697ee204ad78c5f6b9625285a44": {
          "model_module": "@jupyter-widgets/controls",
          "model_name": "DescriptionStyleModel",
          "model_module_version": "1.5.0",
          "state": {
            "_view_name": "StyleView",
            "_model_name": "DescriptionStyleModel",
            "description_width": "",
            "_view_module": "@jupyter-widgets/base",
            "_model_module_version": "1.5.0",
            "_view_count": null,
            "_view_module_version": "1.2.0",
            "_model_module": "@jupyter-widgets/controls"
          }
        },
        "9b642ca035a941dc8bf28ff93c4eed9d": {
          "model_module": "@jupyter-widgets/base",
          "model_name": "LayoutModel",
          "model_module_version": "1.2.0",
          "state": {
            "_view_name": "LayoutView",
            "grid_template_rows": null,
            "right": null,
            "justify_content": null,
            "_view_module": "@jupyter-widgets/base",
            "overflow": null,
            "_model_module_version": "1.2.0",
            "_view_count": null,
            "flex_flow": null,
            "width": null,
            "min_width": null,
            "border": null,
            "align_items": null,
            "bottom": null,
            "_model_module": "@jupyter-widgets/base",
            "top": null,
            "grid_column": null,
            "overflow_y": null,
            "overflow_x": null,
            "grid_auto_flow": null,
            "grid_area": null,
            "grid_template_columns": null,
            "flex": null,
            "_model_name": "LayoutModel",
            "justify_items": null,
            "grid_row": null,
            "max_height": null,
            "align_content": null,
            "visibility": null,
            "align_self": null,
            "height": null,
            "min_height": null,
            "padding": null,
            "grid_auto_rows": null,
            "grid_gap": null,
            "max_width": null,
            "order": null,
            "_view_module_version": "1.2.0",
            "grid_template_areas": null,
            "object_position": null,
            "object_fit": null,
            "grid_auto_columns": null,
            "margin": null,
            "display": null,
            "left": null
          }
        },
        "50b1d2f2f06447518348d0849ac52c0e": {
          "model_module": "@jupyter-widgets/controls",
          "model_name": "ProgressStyleModel",
          "model_module_version": "1.5.0",
          "state": {
            "_view_name": "StyleView",
            "_model_name": "ProgressStyleModel",
            "description_width": "",
            "_view_module": "@jupyter-widgets/base",
            "_model_module_version": "1.5.0",
            "_view_count": null,
            "_view_module_version": "1.2.0",
            "bar_color": null,
            "_model_module": "@jupyter-widgets/controls"
          }
        },
        "c1c2528861324ca8a7e6d021c08b58a1": {
          "model_module": "@jupyter-widgets/base",
          "model_name": "LayoutModel",
          "model_module_version": "1.2.0",
          "state": {
            "_view_name": "LayoutView",
            "grid_template_rows": null,
            "right": null,
            "justify_content": null,
            "_view_module": "@jupyter-widgets/base",
            "overflow": null,
            "_model_module_version": "1.2.0",
            "_view_count": null,
            "flex_flow": null,
            "width": null,
            "min_width": null,
            "border": null,
            "align_items": null,
            "bottom": null,
            "_model_module": "@jupyter-widgets/base",
            "top": null,
            "grid_column": null,
            "overflow_y": null,
            "overflow_x": null,
            "grid_auto_flow": null,
            "grid_area": null,
            "grid_template_columns": null,
            "flex": null,
            "_model_name": "LayoutModel",
            "justify_items": null,
            "grid_row": null,
            "max_height": null,
            "align_content": null,
            "visibility": null,
            "align_self": null,
            "height": null,
            "min_height": null,
            "padding": null,
            "grid_auto_rows": null,
            "grid_gap": null,
            "max_width": null,
            "order": null,
            "_view_module_version": "1.2.0",
            "grid_template_areas": null,
            "object_position": null,
            "object_fit": null,
            "grid_auto_columns": null,
            "margin": null,
            "display": null,
            "left": null
          }
        },
        "d038ce1dd3ca44dd9038b75007bdc231": {
          "model_module": "@jupyter-widgets/controls",
          "model_name": "DescriptionStyleModel",
          "model_module_version": "1.5.0",
          "state": {
            "_view_name": "StyleView",
            "_model_name": "DescriptionStyleModel",
            "description_width": "",
            "_view_module": "@jupyter-widgets/base",
            "_model_module_version": "1.5.0",
            "_view_count": null,
            "_view_module_version": "1.2.0",
            "_model_module": "@jupyter-widgets/controls"
          }
        },
        "1d31e8e359c642a8837fb4b681ad655b": {
          "model_module": "@jupyter-widgets/base",
          "model_name": "LayoutModel",
          "model_module_version": "1.2.0",
          "state": {
            "_view_name": "LayoutView",
            "grid_template_rows": null,
            "right": null,
            "justify_content": null,
            "_view_module": "@jupyter-widgets/base",
            "overflow": null,
            "_model_module_version": "1.2.0",
            "_view_count": null,
            "flex_flow": null,
            "width": null,
            "min_width": null,
            "border": null,
            "align_items": null,
            "bottom": null,
            "_model_module": "@jupyter-widgets/base",
            "top": null,
            "grid_column": null,
            "overflow_y": null,
            "overflow_x": null,
            "grid_auto_flow": null,
            "grid_area": null,
            "grid_template_columns": null,
            "flex": null,
            "_model_name": "LayoutModel",
            "justify_items": null,
            "grid_row": null,
            "max_height": null,
            "align_content": null,
            "visibility": null,
            "align_self": null,
            "height": null,
            "min_height": null,
            "padding": null,
            "grid_auto_rows": null,
            "grid_gap": null,
            "max_width": null,
            "order": null,
            "_view_module_version": "1.2.0",
            "grid_template_areas": null,
            "object_position": null,
            "object_fit": null,
            "grid_auto_columns": null,
            "margin": null,
            "display": null,
            "left": null
          }
        },
        "71217aba389348a9b1405fcd855fddb6": {
          "model_module": "@jupyter-widgets/controls",
          "model_name": "HBoxModel",
          "model_module_version": "1.5.0",
          "state": {
            "_view_name": "HBoxView",
            "_dom_classes": [],
            "_model_name": "HBoxModel",
            "_view_module": "@jupyter-widgets/controls",
            "_model_module_version": "1.5.0",
            "_view_count": null,
            "_view_module_version": "1.5.0",
            "box_style": "",
            "layout": "IPY_MODEL_e13812d96b0548a7bb9ba3e53dd80ecc",
            "_model_module": "@jupyter-widgets/controls",
            "children": [
              "IPY_MODEL_cb6774651684443fa43582bdfb04fdd3",
              "IPY_MODEL_5d913c2259a94613914524d12501ecbb",
              "IPY_MODEL_440e6f5ca66c43799b0b449ad5a50e32"
            ]
          }
        },
        "e13812d96b0548a7bb9ba3e53dd80ecc": {
          "model_module": "@jupyter-widgets/base",
          "model_name": "LayoutModel",
          "model_module_version": "1.2.0",
          "state": {
            "_view_name": "LayoutView",
            "grid_template_rows": null,
            "right": null,
            "justify_content": null,
            "_view_module": "@jupyter-widgets/base",
            "overflow": null,
            "_model_module_version": "1.2.0",
            "_view_count": null,
            "flex_flow": null,
            "width": null,
            "min_width": null,
            "border": null,
            "align_items": null,
            "bottom": null,
            "_model_module": "@jupyter-widgets/base",
            "top": null,
            "grid_column": null,
            "overflow_y": null,
            "overflow_x": null,
            "grid_auto_flow": null,
            "grid_area": null,
            "grid_template_columns": null,
            "flex": null,
            "_model_name": "LayoutModel",
            "justify_items": null,
            "grid_row": null,
            "max_height": null,
            "align_content": null,
            "visibility": null,
            "align_self": null,
            "height": null,
            "min_height": null,
            "padding": null,
            "grid_auto_rows": null,
            "grid_gap": null,
            "max_width": null,
            "order": null,
            "_view_module_version": "1.2.0",
            "grid_template_areas": null,
            "object_position": null,
            "object_fit": null,
            "grid_auto_columns": null,
            "margin": null,
            "display": null,
            "left": null
          }
        },
        "cb6774651684443fa43582bdfb04fdd3": {
          "model_module": "@jupyter-widgets/controls",
          "model_name": "HTMLModel",
          "model_module_version": "1.5.0",
          "state": {
            "_view_name": "HTMLView",
            "style": "IPY_MODEL_0856c0be77bf465090654ea703f4355a",
            "_dom_classes": [],
            "description": "",
            "_model_name": "HTMLModel",
            "placeholder": "​",
            "_view_module": "@jupyter-widgets/controls",
            "_model_module_version": "1.5.0",
            "value": "Downloading: 100%",
            "_view_count": null,
            "_view_module_version": "1.5.0",
            "description_tooltip": null,
            "_model_module": "@jupyter-widgets/controls",
            "layout": "IPY_MODEL_4f9f13a066f34ba6b8c136107aad0f18"
          }
        },
        "5d913c2259a94613914524d12501ecbb": {
          "model_module": "@jupyter-widgets/controls",
          "model_name": "FloatProgressModel",
          "model_module_version": "1.5.0",
          "state": {
            "_view_name": "ProgressView",
            "style": "IPY_MODEL_8cafc2a3ddfa492e8b4ba3439ad3d88a",
            "_dom_classes": [],
            "description": "",
            "_model_name": "FloatProgressModel",
            "bar_style": "success",
            "max": 163,
            "_view_module": "@jupyter-widgets/controls",
            "_model_module_version": "1.5.0",
            "value": 163,
            "_view_count": null,
            "_view_module_version": "1.5.0",
            "orientation": "horizontal",
            "min": 0,
            "description_tooltip": null,
            "_model_module": "@jupyter-widgets/controls",
            "layout": "IPY_MODEL_183dbb6e25014d059957dbc356655dbf"
          }
        },
        "440e6f5ca66c43799b0b449ad5a50e32": {
          "model_module": "@jupyter-widgets/controls",
          "model_name": "HTMLModel",
          "model_module_version": "1.5.0",
          "state": {
            "_view_name": "HTMLView",
            "style": "IPY_MODEL_cf9883c4a5d84a029de62125490820d4",
            "_dom_classes": [],
            "description": "",
            "_model_name": "HTMLModel",
            "placeholder": "​",
            "_view_module": "@jupyter-widgets/controls",
            "_model_module_version": "1.5.0",
            "value": " 163/163 [00:00&lt;00:00, 3.05kB/s]",
            "_view_count": null,
            "_view_module_version": "1.5.0",
            "description_tooltip": null,
            "_model_module": "@jupyter-widgets/controls",
            "layout": "IPY_MODEL_b143ca496b794d928d06b53a1d4935b9"
          }
        },
        "0856c0be77bf465090654ea703f4355a": {
          "model_module": "@jupyter-widgets/controls",
          "model_name": "DescriptionStyleModel",
          "model_module_version": "1.5.0",
          "state": {
            "_view_name": "StyleView",
            "_model_name": "DescriptionStyleModel",
            "description_width": "",
            "_view_module": "@jupyter-widgets/base",
            "_model_module_version": "1.5.0",
            "_view_count": null,
            "_view_module_version": "1.2.0",
            "_model_module": "@jupyter-widgets/controls"
          }
        },
        "4f9f13a066f34ba6b8c136107aad0f18": {
          "model_module": "@jupyter-widgets/base",
          "model_name": "LayoutModel",
          "model_module_version": "1.2.0",
          "state": {
            "_view_name": "LayoutView",
            "grid_template_rows": null,
            "right": null,
            "justify_content": null,
            "_view_module": "@jupyter-widgets/base",
            "overflow": null,
            "_model_module_version": "1.2.0",
            "_view_count": null,
            "flex_flow": null,
            "width": null,
            "min_width": null,
            "border": null,
            "align_items": null,
            "bottom": null,
            "_model_module": "@jupyter-widgets/base",
            "top": null,
            "grid_column": null,
            "overflow_y": null,
            "overflow_x": null,
            "grid_auto_flow": null,
            "grid_area": null,
            "grid_template_columns": null,
            "flex": null,
            "_model_name": "LayoutModel",
            "justify_items": null,
            "grid_row": null,
            "max_height": null,
            "align_content": null,
            "visibility": null,
            "align_self": null,
            "height": null,
            "min_height": null,
            "padding": null,
            "grid_auto_rows": null,
            "grid_gap": null,
            "max_width": null,
            "order": null,
            "_view_module_version": "1.2.0",
            "grid_template_areas": null,
            "object_position": null,
            "object_fit": null,
            "grid_auto_columns": null,
            "margin": null,
            "display": null,
            "left": null
          }
        },
        "8cafc2a3ddfa492e8b4ba3439ad3d88a": {
          "model_module": "@jupyter-widgets/controls",
          "model_name": "ProgressStyleModel",
          "model_module_version": "1.5.0",
          "state": {
            "_view_name": "StyleView",
            "_model_name": "ProgressStyleModel",
            "description_width": "",
            "_view_module": "@jupyter-widgets/base",
            "_model_module_version": "1.5.0",
            "_view_count": null,
            "_view_module_version": "1.2.0",
            "bar_color": null,
            "_model_module": "@jupyter-widgets/controls"
          }
        },
        "183dbb6e25014d059957dbc356655dbf": {
          "model_module": "@jupyter-widgets/base",
          "model_name": "LayoutModel",
          "model_module_version": "1.2.0",
          "state": {
            "_view_name": "LayoutView",
            "grid_template_rows": null,
            "right": null,
            "justify_content": null,
            "_view_module": "@jupyter-widgets/base",
            "overflow": null,
            "_model_module_version": "1.2.0",
            "_view_count": null,
            "flex_flow": null,
            "width": null,
            "min_width": null,
            "border": null,
            "align_items": null,
            "bottom": null,
            "_model_module": "@jupyter-widgets/base",
            "top": null,
            "grid_column": null,
            "overflow_y": null,
            "overflow_x": null,
            "grid_auto_flow": null,
            "grid_area": null,
            "grid_template_columns": null,
            "flex": null,
            "_model_name": "LayoutModel",
            "justify_items": null,
            "grid_row": null,
            "max_height": null,
            "align_content": null,
            "visibility": null,
            "align_self": null,
            "height": null,
            "min_height": null,
            "padding": null,
            "grid_auto_rows": null,
            "grid_gap": null,
            "max_width": null,
            "order": null,
            "_view_module_version": "1.2.0",
            "grid_template_areas": null,
            "object_position": null,
            "object_fit": null,
            "grid_auto_columns": null,
            "margin": null,
            "display": null,
            "left": null
          }
        },
        "cf9883c4a5d84a029de62125490820d4": {
          "model_module": "@jupyter-widgets/controls",
          "model_name": "DescriptionStyleModel",
          "model_module_version": "1.5.0",
          "state": {
            "_view_name": "StyleView",
            "_model_name": "DescriptionStyleModel",
            "description_width": "",
            "_view_module": "@jupyter-widgets/base",
            "_model_module_version": "1.5.0",
            "_view_count": null,
            "_view_module_version": "1.2.0",
            "_model_module": "@jupyter-widgets/controls"
          }
        },
        "b143ca496b794d928d06b53a1d4935b9": {
          "model_module": "@jupyter-widgets/base",
          "model_name": "LayoutModel",
          "model_module_version": "1.2.0",
          "state": {
            "_view_name": "LayoutView",
            "grid_template_rows": null,
            "right": null,
            "justify_content": null,
            "_view_module": "@jupyter-widgets/base",
            "overflow": null,
            "_model_module_version": "1.2.0",
            "_view_count": null,
            "flex_flow": null,
            "width": null,
            "min_width": null,
            "border": null,
            "align_items": null,
            "bottom": null,
            "_model_module": "@jupyter-widgets/base",
            "top": null,
            "grid_column": null,
            "overflow_y": null,
            "overflow_x": null,
            "grid_auto_flow": null,
            "grid_area": null,
            "grid_template_columns": null,
            "flex": null,
            "_model_name": "LayoutModel",
            "justify_items": null,
            "grid_row": null,
            "max_height": null,
            "align_content": null,
            "visibility": null,
            "align_self": null,
            "height": null,
            "min_height": null,
            "padding": null,
            "grid_auto_rows": null,
            "grid_gap": null,
            "max_width": null,
            "order": null,
            "_view_module_version": "1.2.0",
            "grid_template_areas": null,
            "object_position": null,
            "object_fit": null,
            "grid_auto_columns": null,
            "margin": null,
            "display": null,
            "left": null
          }
        },
        "0428ce186bf5438b9102cdb624bcb252": {
          "model_module": "@jupyter-widgets/controls",
          "model_name": "HBoxModel",
          "model_module_version": "1.5.0",
          "state": {
            "_view_name": "HBoxView",
            "_dom_classes": [],
            "_model_name": "HBoxModel",
            "_view_module": "@jupyter-widgets/controls",
            "_model_module_version": "1.5.0",
            "_view_count": null,
            "_view_module_version": "1.5.0",
            "box_style": "",
            "layout": "IPY_MODEL_c1cbea4777034cf5a80b8233fae120cf",
            "_model_module": "@jupyter-widgets/controls",
            "children": [
              "IPY_MODEL_0884f3f2f6f442f9a12ba531d6b651a1",
              "IPY_MODEL_1983518dbf0e4d0daadc7ec384dd7d73",
              "IPY_MODEL_9a35b2e8bcc84d119bf42598d7ea7402"
            ]
          }
        },
        "c1cbea4777034cf5a80b8233fae120cf": {
          "model_module": "@jupyter-widgets/base",
          "model_name": "LayoutModel",
          "model_module_version": "1.2.0",
          "state": {
            "_view_name": "LayoutView",
            "grid_template_rows": null,
            "right": null,
            "justify_content": null,
            "_view_module": "@jupyter-widgets/base",
            "overflow": null,
            "_model_module_version": "1.2.0",
            "_view_count": null,
            "flex_flow": null,
            "width": null,
            "min_width": null,
            "border": null,
            "align_items": null,
            "bottom": null,
            "_model_module": "@jupyter-widgets/base",
            "top": null,
            "grid_column": null,
            "overflow_y": null,
            "overflow_x": null,
            "grid_auto_flow": null,
            "grid_area": null,
            "grid_template_columns": null,
            "flex": null,
            "_model_name": "LayoutModel",
            "justify_items": null,
            "grid_row": null,
            "max_height": null,
            "align_content": null,
            "visibility": null,
            "align_self": null,
            "height": null,
            "min_height": null,
            "padding": null,
            "grid_auto_rows": null,
            "grid_gap": null,
            "max_width": null,
            "order": null,
            "_view_module_version": "1.2.0",
            "grid_template_areas": null,
            "object_position": null,
            "object_fit": null,
            "grid_auto_columns": null,
            "margin": null,
            "display": null,
            "left": null
          }
        },
        "0884f3f2f6f442f9a12ba531d6b651a1": {
          "model_module": "@jupyter-widgets/controls",
          "model_name": "HTMLModel",
          "model_module_version": "1.5.0",
          "state": {
            "_view_name": "HTMLView",
            "style": "IPY_MODEL_951dec9536e046838cb2bb8c3e097ced",
            "_dom_classes": [],
            "description": "",
            "_model_name": "HTMLModel",
            "placeholder": "​",
            "_view_module": "@jupyter-widgets/controls",
            "_model_module_version": "1.5.0",
            "value": "Downloading: 100%",
            "_view_count": null,
            "_view_module_version": "1.5.0",
            "description_tooltip": null,
            "_model_module": "@jupyter-widgets/controls",
            "layout": "IPY_MODEL_096d932ecdcc43dd80621254255c793c"
          }
        },
        "1983518dbf0e4d0daadc7ec384dd7d73": {
          "model_module": "@jupyter-widgets/controls",
          "model_name": "FloatProgressModel",
          "model_module_version": "1.5.0",
          "state": {
            "_view_name": "ProgressView",
            "style": "IPY_MODEL_ac150db878c8435886df62d692c4264e",
            "_dom_classes": [],
            "description": "",
            "_model_name": "FloatProgressModel",
            "bar_style": "success",
            "max": 85,
            "_view_module": "@jupyter-widgets/controls",
            "_model_module_version": "1.5.0",
            "value": 85,
            "_view_count": null,
            "_view_module_version": "1.5.0",
            "orientation": "horizontal",
            "min": 0,
            "description_tooltip": null,
            "_model_module": "@jupyter-widgets/controls",
            "layout": "IPY_MODEL_3c000d7f00b64ba2a001012deba1226d"
          }
        },
        "9a35b2e8bcc84d119bf42598d7ea7402": {
          "model_module": "@jupyter-widgets/controls",
          "model_name": "HTMLModel",
          "model_module_version": "1.5.0",
          "state": {
            "_view_name": "HTMLView",
            "style": "IPY_MODEL_a3e96ac3801e4c7bac354b570d7a2870",
            "_dom_classes": [],
            "description": "",
            "_model_name": "HTMLModel",
            "placeholder": "​",
            "_view_module": "@jupyter-widgets/controls",
            "_model_module_version": "1.5.0",
            "value": " 85.0/85.0 [00:00&lt;00:00, 1.82kB/s]",
            "_view_count": null,
            "_view_module_version": "1.5.0",
            "description_tooltip": null,
            "_model_module": "@jupyter-widgets/controls",
            "layout": "IPY_MODEL_795b7caa88d2448299454dc17a867589"
          }
        },
        "951dec9536e046838cb2bb8c3e097ced": {
          "model_module": "@jupyter-widgets/controls",
          "model_name": "DescriptionStyleModel",
          "model_module_version": "1.5.0",
          "state": {
            "_view_name": "StyleView",
            "_model_name": "DescriptionStyleModel",
            "description_width": "",
            "_view_module": "@jupyter-widgets/base",
            "_model_module_version": "1.5.0",
            "_view_count": null,
            "_view_module_version": "1.2.0",
            "_model_module": "@jupyter-widgets/controls"
          }
        },
        "096d932ecdcc43dd80621254255c793c": {
          "model_module": "@jupyter-widgets/base",
          "model_name": "LayoutModel",
          "model_module_version": "1.2.0",
          "state": {
            "_view_name": "LayoutView",
            "grid_template_rows": null,
            "right": null,
            "justify_content": null,
            "_view_module": "@jupyter-widgets/base",
            "overflow": null,
            "_model_module_version": "1.2.0",
            "_view_count": null,
            "flex_flow": null,
            "width": null,
            "min_width": null,
            "border": null,
            "align_items": null,
            "bottom": null,
            "_model_module": "@jupyter-widgets/base",
            "top": null,
            "grid_column": null,
            "overflow_y": null,
            "overflow_x": null,
            "grid_auto_flow": null,
            "grid_area": null,
            "grid_template_columns": null,
            "flex": null,
            "_model_name": "LayoutModel",
            "justify_items": null,
            "grid_row": null,
            "max_height": null,
            "align_content": null,
            "visibility": null,
            "align_self": null,
            "height": null,
            "min_height": null,
            "padding": null,
            "grid_auto_rows": null,
            "grid_gap": null,
            "max_width": null,
            "order": null,
            "_view_module_version": "1.2.0",
            "grid_template_areas": null,
            "object_position": null,
            "object_fit": null,
            "grid_auto_columns": null,
            "margin": null,
            "display": null,
            "left": null
          }
        },
        "ac150db878c8435886df62d692c4264e": {
          "model_module": "@jupyter-widgets/controls",
          "model_name": "ProgressStyleModel",
          "model_module_version": "1.5.0",
          "state": {
            "_view_name": "StyleView",
            "_model_name": "ProgressStyleModel",
            "description_width": "",
            "_view_module": "@jupyter-widgets/base",
            "_model_module_version": "1.5.0",
            "_view_count": null,
            "_view_module_version": "1.2.0",
            "bar_color": null,
            "_model_module": "@jupyter-widgets/controls"
          }
        },
        "3c000d7f00b64ba2a001012deba1226d": {
          "model_module": "@jupyter-widgets/base",
          "model_name": "LayoutModel",
          "model_module_version": "1.2.0",
          "state": {
            "_view_name": "LayoutView",
            "grid_template_rows": null,
            "right": null,
            "justify_content": null,
            "_view_module": "@jupyter-widgets/base",
            "overflow": null,
            "_model_module_version": "1.2.0",
            "_view_count": null,
            "flex_flow": null,
            "width": null,
            "min_width": null,
            "border": null,
            "align_items": null,
            "bottom": null,
            "_model_module": "@jupyter-widgets/base",
            "top": null,
            "grid_column": null,
            "overflow_y": null,
            "overflow_x": null,
            "grid_auto_flow": null,
            "grid_area": null,
            "grid_template_columns": null,
            "flex": null,
            "_model_name": "LayoutModel",
            "justify_items": null,
            "grid_row": null,
            "max_height": null,
            "align_content": null,
            "visibility": null,
            "align_self": null,
            "height": null,
            "min_height": null,
            "padding": null,
            "grid_auto_rows": null,
            "grid_gap": null,
            "max_width": null,
            "order": null,
            "_view_module_version": "1.2.0",
            "grid_template_areas": null,
            "object_position": null,
            "object_fit": null,
            "grid_auto_columns": null,
            "margin": null,
            "display": null,
            "left": null
          }
        },
        "a3e96ac3801e4c7bac354b570d7a2870": {
          "model_module": "@jupyter-widgets/controls",
          "model_name": "DescriptionStyleModel",
          "model_module_version": "1.5.0",
          "state": {
            "_view_name": "StyleView",
            "_model_name": "DescriptionStyleModel",
            "description_width": "",
            "_view_module": "@jupyter-widgets/base",
            "_model_module_version": "1.5.0",
            "_view_count": null,
            "_view_module_version": "1.2.0",
            "_model_module": "@jupyter-widgets/controls"
          }
        },
        "795b7caa88d2448299454dc17a867589": {
          "model_module": "@jupyter-widgets/base",
          "model_name": "LayoutModel",
          "model_module_version": "1.2.0",
          "state": {
            "_view_name": "LayoutView",
            "grid_template_rows": null,
            "right": null,
            "justify_content": null,
            "_view_module": "@jupyter-widgets/base",
            "overflow": null,
            "_model_module_version": "1.2.0",
            "_view_count": null,
            "flex_flow": null,
            "width": null,
            "min_width": null,
            "border": null,
            "align_items": null,
            "bottom": null,
            "_model_module": "@jupyter-widgets/base",
            "top": null,
            "grid_column": null,
            "overflow_y": null,
            "overflow_x": null,
            "grid_auto_flow": null,
            "grid_area": null,
            "grid_template_columns": null,
            "flex": null,
            "_model_name": "LayoutModel",
            "justify_items": null,
            "grid_row": null,
            "max_height": null,
            "align_content": null,
            "visibility": null,
            "align_self": null,
            "height": null,
            "min_height": null,
            "padding": null,
            "grid_auto_rows": null,
            "grid_gap": null,
            "max_width": null,
            "order": null,
            "_view_module_version": "1.2.0",
            "grid_template_areas": null,
            "object_position": null,
            "object_fit": null,
            "grid_auto_columns": null,
            "margin": null,
            "display": null,
            "left": null
          }
        },
        "00093bd477304a98ab188a8001ee028d": {
          "model_module": "@jupyter-widgets/controls",
          "model_name": "HBoxModel",
          "model_module_version": "1.5.0",
          "state": {
            "_view_name": "HBoxView",
            "_dom_classes": [],
            "_model_name": "HBoxModel",
            "_view_module": "@jupyter-widgets/controls",
            "_model_module_version": "1.5.0",
            "_view_count": null,
            "_view_module_version": "1.5.0",
            "box_style": "",
            "layout": "IPY_MODEL_3f01991101f646299aedf6306ac0b75f",
            "_model_module": "@jupyter-widgets/controls",
            "children": [
              "IPY_MODEL_18b5c60b3c434a1289f255c184321187",
              "IPY_MODEL_71d4e06cd15b469988d6aabc8f9076ff",
              "IPY_MODEL_98e75b6928314a7590cbb7728180ff63"
            ]
          }
        },
        "3f01991101f646299aedf6306ac0b75f": {
          "model_module": "@jupyter-widgets/base",
          "model_name": "LayoutModel",
          "model_module_version": "1.2.0",
          "state": {
            "_view_name": "LayoutView",
            "grid_template_rows": null,
            "right": null,
            "justify_content": null,
            "_view_module": "@jupyter-widgets/base",
            "overflow": null,
            "_model_module_version": "1.2.0",
            "_view_count": null,
            "flex_flow": null,
            "width": null,
            "min_width": null,
            "border": null,
            "align_items": null,
            "bottom": null,
            "_model_module": "@jupyter-widgets/base",
            "top": null,
            "grid_column": null,
            "overflow_y": null,
            "overflow_x": null,
            "grid_auto_flow": null,
            "grid_area": null,
            "grid_template_columns": null,
            "flex": null,
            "_model_name": "LayoutModel",
            "justify_items": null,
            "grid_row": null,
            "max_height": null,
            "align_content": null,
            "visibility": null,
            "align_self": null,
            "height": null,
            "min_height": null,
            "padding": null,
            "grid_auto_rows": null,
            "grid_gap": null,
            "max_width": null,
            "order": null,
            "_view_module_version": "1.2.0",
            "grid_template_areas": null,
            "object_position": null,
            "object_fit": null,
            "grid_auto_columns": null,
            "margin": null,
            "display": null,
            "left": null
          }
        },
        "18b5c60b3c434a1289f255c184321187": {
          "model_module": "@jupyter-widgets/controls",
          "model_name": "HTMLModel",
          "model_module_version": "1.5.0",
          "state": {
            "_view_name": "HTMLView",
            "style": "IPY_MODEL_70a79cf0ccda49499caa132d3f5036fa",
            "_dom_classes": [],
            "description": "",
            "_model_name": "HTMLModel",
            "placeholder": "​",
            "_view_module": "@jupyter-widgets/controls",
            "_model_module_version": "1.5.0",
            "value": "Downloading: 100%",
            "_view_count": null,
            "_view_module_version": "1.5.0",
            "description_tooltip": null,
            "_model_module": "@jupyter-widgets/controls",
            "layout": "IPY_MODEL_437055079bc548d59e25dc09e1f9cf85"
          }
        },
        "71d4e06cd15b469988d6aabc8f9076ff": {
          "model_module": "@jupyter-widgets/controls",
          "model_name": "FloatProgressModel",
          "model_module_version": "1.5.0",
          "state": {
            "_view_name": "ProgressView",
            "style": "IPY_MODEL_64e91fd2dce9418186724bd4df842bfb",
            "_dom_classes": [],
            "description": "",
            "_model_name": "FloatProgressModel",
            "bar_style": "success",
            "max": 1596,
            "_view_module": "@jupyter-widgets/controls",
            "_model_module_version": "1.5.0",
            "value": 1596,
            "_view_count": null,
            "_view_module_version": "1.5.0",
            "orientation": "horizontal",
            "min": 0,
            "description_tooltip": null,
            "_model_module": "@jupyter-widgets/controls",
            "layout": "IPY_MODEL_59f7beefc897471ab0cc1e730d873741"
          }
        },
        "98e75b6928314a7590cbb7728180ff63": {
          "model_module": "@jupyter-widgets/controls",
          "model_name": "HTMLModel",
          "model_module_version": "1.5.0",
          "state": {
            "_view_name": "HTMLView",
            "style": "IPY_MODEL_3af661eb36994e0b86604419f2f7d330",
            "_dom_classes": [],
            "description": "",
            "_model_name": "HTMLModel",
            "placeholder": "​",
            "_view_module": "@jupyter-widgets/controls",
            "_model_module_version": "1.5.0",
            "value": " 1.56k/1.56k [00:00&lt;00:00, 33.8kB/s]",
            "_view_count": null,
            "_view_module_version": "1.5.0",
            "description_tooltip": null,
            "_model_module": "@jupyter-widgets/controls",
            "layout": "IPY_MODEL_eade3b7e45f24e3e86bab60a2adbad54"
          }
        },
        "70a79cf0ccda49499caa132d3f5036fa": {
          "model_module": "@jupyter-widgets/controls",
          "model_name": "DescriptionStyleModel",
          "model_module_version": "1.5.0",
          "state": {
            "_view_name": "StyleView",
            "_model_name": "DescriptionStyleModel",
            "description_width": "",
            "_view_module": "@jupyter-widgets/base",
            "_model_module_version": "1.5.0",
            "_view_count": null,
            "_view_module_version": "1.2.0",
            "_model_module": "@jupyter-widgets/controls"
          }
        },
        "437055079bc548d59e25dc09e1f9cf85": {
          "model_module": "@jupyter-widgets/base",
          "model_name": "LayoutModel",
          "model_module_version": "1.2.0",
          "state": {
            "_view_name": "LayoutView",
            "grid_template_rows": null,
            "right": null,
            "justify_content": null,
            "_view_module": "@jupyter-widgets/base",
            "overflow": null,
            "_model_module_version": "1.2.0",
            "_view_count": null,
            "flex_flow": null,
            "width": null,
            "min_width": null,
            "border": null,
            "align_items": null,
            "bottom": null,
            "_model_module": "@jupyter-widgets/base",
            "top": null,
            "grid_column": null,
            "overflow_y": null,
            "overflow_x": null,
            "grid_auto_flow": null,
            "grid_area": null,
            "grid_template_columns": null,
            "flex": null,
            "_model_name": "LayoutModel",
            "justify_items": null,
            "grid_row": null,
            "max_height": null,
            "align_content": null,
            "visibility": null,
            "align_self": null,
            "height": null,
            "min_height": null,
            "padding": null,
            "grid_auto_rows": null,
            "grid_gap": null,
            "max_width": null,
            "order": null,
            "_view_module_version": "1.2.0",
            "grid_template_areas": null,
            "object_position": null,
            "object_fit": null,
            "grid_auto_columns": null,
            "margin": null,
            "display": null,
            "left": null
          }
        },
        "64e91fd2dce9418186724bd4df842bfb": {
          "model_module": "@jupyter-widgets/controls",
          "model_name": "ProgressStyleModel",
          "model_module_version": "1.5.0",
          "state": {
            "_view_name": "StyleView",
            "_model_name": "ProgressStyleModel",
            "description_width": "",
            "_view_module": "@jupyter-widgets/base",
            "_model_module_version": "1.5.0",
            "_view_count": null,
            "_view_module_version": "1.2.0",
            "bar_color": null,
            "_model_module": "@jupyter-widgets/controls"
          }
        },
        "59f7beefc897471ab0cc1e730d873741": {
          "model_module": "@jupyter-widgets/base",
          "model_name": "LayoutModel",
          "model_module_version": "1.2.0",
          "state": {
            "_view_name": "LayoutView",
            "grid_template_rows": null,
            "right": null,
            "justify_content": null,
            "_view_module": "@jupyter-widgets/base",
            "overflow": null,
            "_model_module_version": "1.2.0",
            "_view_count": null,
            "flex_flow": null,
            "width": null,
            "min_width": null,
            "border": null,
            "align_items": null,
            "bottom": null,
            "_model_module": "@jupyter-widgets/base",
            "top": null,
            "grid_column": null,
            "overflow_y": null,
            "overflow_x": null,
            "grid_auto_flow": null,
            "grid_area": null,
            "grid_template_columns": null,
            "flex": null,
            "_model_name": "LayoutModel",
            "justify_items": null,
            "grid_row": null,
            "max_height": null,
            "align_content": null,
            "visibility": null,
            "align_self": null,
            "height": null,
            "min_height": null,
            "padding": null,
            "grid_auto_rows": null,
            "grid_gap": null,
            "max_width": null,
            "order": null,
            "_view_module_version": "1.2.0",
            "grid_template_areas": null,
            "object_position": null,
            "object_fit": null,
            "grid_auto_columns": null,
            "margin": null,
            "display": null,
            "left": null
          }
        },
        "3af661eb36994e0b86604419f2f7d330": {
          "model_module": "@jupyter-widgets/controls",
          "model_name": "DescriptionStyleModel",
          "model_module_version": "1.5.0",
          "state": {
            "_view_name": "StyleView",
            "_model_name": "DescriptionStyleModel",
            "description_width": "",
            "_view_module": "@jupyter-widgets/base",
            "_model_module_version": "1.5.0",
            "_view_count": null,
            "_view_module_version": "1.2.0",
            "_model_module": "@jupyter-widgets/controls"
          }
        },
        "eade3b7e45f24e3e86bab60a2adbad54": {
          "model_module": "@jupyter-widgets/base",
          "model_name": "LayoutModel",
          "model_module_version": "1.2.0",
          "state": {
            "_view_name": "LayoutView",
            "grid_template_rows": null,
            "right": null,
            "justify_content": null,
            "_view_module": "@jupyter-widgets/base",
            "overflow": null,
            "_model_module_version": "1.2.0",
            "_view_count": null,
            "flex_flow": null,
            "width": null,
            "min_width": null,
            "border": null,
            "align_items": null,
            "bottom": null,
            "_model_module": "@jupyter-widgets/base",
            "top": null,
            "grid_column": null,
            "overflow_y": null,
            "overflow_x": null,
            "grid_auto_flow": null,
            "grid_area": null,
            "grid_template_columns": null,
            "flex": null,
            "_model_name": "LayoutModel",
            "justify_items": null,
            "grid_row": null,
            "max_height": null,
            "align_content": null,
            "visibility": null,
            "align_self": null,
            "height": null,
            "min_height": null,
            "padding": null,
            "grid_auto_rows": null,
            "grid_gap": null,
            "max_width": null,
            "order": null,
            "_view_module_version": "1.2.0",
            "grid_template_areas": null,
            "object_position": null,
            "object_fit": null,
            "grid_auto_columns": null,
            "margin": null,
            "display": null,
            "left": null
          }
        },
        "257f85ca9d234eeb92b23be1b429c8b7": {
          "model_module": "@jupyter-widgets/controls",
          "model_name": "HBoxModel",
          "model_module_version": "1.5.0",
          "state": {
            "_view_name": "HBoxView",
            "_dom_classes": [],
            "_model_name": "HBoxModel",
            "_view_module": "@jupyter-widgets/controls",
            "_model_module_version": "1.5.0",
            "_view_count": null,
            "_view_module_version": "1.5.0",
            "box_style": "",
            "layout": "IPY_MODEL_a1a4deabd7f84fa2ae91e8be818ea8dd",
            "_model_module": "@jupyter-widgets/controls",
            "children": [
              "IPY_MODEL_796dacde3b3b4361a78cc8b0a808f184",
              "IPY_MODEL_24da1dcea3f04a5e9cc870c7e82cffa2",
              "IPY_MODEL_d06e0c4308d94d13abd52eecf2375e38"
            ]
          }
        },
        "a1a4deabd7f84fa2ae91e8be818ea8dd": {
          "model_module": "@jupyter-widgets/base",
          "model_name": "LayoutModel",
          "model_module_version": "1.2.0",
          "state": {
            "_view_name": "LayoutView",
            "grid_template_rows": null,
            "right": null,
            "justify_content": null,
            "_view_module": "@jupyter-widgets/base",
            "overflow": null,
            "_model_module_version": "1.2.0",
            "_view_count": null,
            "flex_flow": null,
            "width": null,
            "min_width": null,
            "border": null,
            "align_items": null,
            "bottom": null,
            "_model_module": "@jupyter-widgets/base",
            "top": null,
            "grid_column": null,
            "overflow_y": null,
            "overflow_x": null,
            "grid_auto_flow": null,
            "grid_area": null,
            "grid_template_columns": null,
            "flex": null,
            "_model_name": "LayoutModel",
            "justify_items": null,
            "grid_row": null,
            "max_height": null,
            "align_content": null,
            "visibility": null,
            "align_self": null,
            "height": null,
            "min_height": null,
            "padding": null,
            "grid_auto_rows": null,
            "grid_gap": null,
            "max_width": null,
            "order": null,
            "_view_module_version": "1.2.0",
            "grid_template_areas": null,
            "object_position": null,
            "object_fit": null,
            "grid_auto_columns": null,
            "margin": null,
            "display": null,
            "left": null
          }
        },
        "796dacde3b3b4361a78cc8b0a808f184": {
          "model_module": "@jupyter-widgets/controls",
          "model_name": "HTMLModel",
          "model_module_version": "1.5.0",
          "state": {
            "_view_name": "HTMLView",
            "style": "IPY_MODEL_857d4105acf941f0b6c30ac55a7b665c",
            "_dom_classes": [],
            "description": "",
            "_model_name": "HTMLModel",
            "placeholder": "​",
            "_view_module": "@jupyter-widgets/controls",
            "_model_module_version": "1.5.0",
            "value": "Downloading: 100%",
            "_view_count": null,
            "_view_module_version": "1.5.0",
            "description_tooltip": null,
            "_model_module": "@jupyter-widgets/controls",
            "layout": "IPY_MODEL_a55d37d7871447a09820712d01beb827"
          }
        },
        "24da1dcea3f04a5e9cc870c7e82cffa2": {
          "model_module": "@jupyter-widgets/controls",
          "model_name": "FloatProgressModel",
          "model_module_version": "1.5.0",
          "state": {
            "_view_name": "ProgressView",
            "style": "IPY_MODEL_94f413b625af455491c1c9cfafbb8dbb",
            "_dom_classes": [],
            "description": "",
            "_model_name": "FloatProgressModel",
            "bar_style": "success",
            "max": 377667514,
            "_view_module": "@jupyter-widgets/controls",
            "_model_module_version": "1.5.0",
            "value": 377667514,
            "_view_count": null,
            "_view_module_version": "1.5.0",
            "orientation": "horizontal",
            "min": 0,
            "description_tooltip": null,
            "_model_module": "@jupyter-widgets/controls",
            "layout": "IPY_MODEL_ab5d82bf789c448e9112fad9b9f46068"
          }
        },
        "d06e0c4308d94d13abd52eecf2375e38": {
          "model_module": "@jupyter-widgets/controls",
          "model_name": "HTMLModel",
          "model_module_version": "1.5.0",
          "state": {
            "_view_name": "HTMLView",
            "style": "IPY_MODEL_199b23e0b2ad48a19695f214901b5f5d",
            "_dom_classes": [],
            "description": "",
            "_model_name": "HTMLModel",
            "placeholder": "​",
            "_view_module": "@jupyter-widgets/controls",
            "_model_module_version": "1.5.0",
            "value": " 360M/360M [00:15&lt;00:00, 24.4MB/s]",
            "_view_count": null,
            "_view_module_version": "1.5.0",
            "description_tooltip": null,
            "_model_module": "@jupyter-widgets/controls",
            "layout": "IPY_MODEL_cc287802cbf64f158edff55f7f301dd2"
          }
        },
        "857d4105acf941f0b6c30ac55a7b665c": {
          "model_module": "@jupyter-widgets/controls",
          "model_name": "DescriptionStyleModel",
          "model_module_version": "1.5.0",
          "state": {
            "_view_name": "StyleView",
            "_model_name": "DescriptionStyleModel",
            "description_width": "",
            "_view_module": "@jupyter-widgets/base",
            "_model_module_version": "1.5.0",
            "_view_count": null,
            "_view_module_version": "1.2.0",
            "_model_module": "@jupyter-widgets/controls"
          }
        },
        "a55d37d7871447a09820712d01beb827": {
          "model_module": "@jupyter-widgets/base",
          "model_name": "LayoutModel",
          "model_module_version": "1.2.0",
          "state": {
            "_view_name": "LayoutView",
            "grid_template_rows": null,
            "right": null,
            "justify_content": null,
            "_view_module": "@jupyter-widgets/base",
            "overflow": null,
            "_model_module_version": "1.2.0",
            "_view_count": null,
            "flex_flow": null,
            "width": null,
            "min_width": null,
            "border": null,
            "align_items": null,
            "bottom": null,
            "_model_module": "@jupyter-widgets/base",
            "top": null,
            "grid_column": null,
            "overflow_y": null,
            "overflow_x": null,
            "grid_auto_flow": null,
            "grid_area": null,
            "grid_template_columns": null,
            "flex": null,
            "_model_name": "LayoutModel",
            "justify_items": null,
            "grid_row": null,
            "max_height": null,
            "align_content": null,
            "visibility": null,
            "align_self": null,
            "height": null,
            "min_height": null,
            "padding": null,
            "grid_auto_rows": null,
            "grid_gap": null,
            "max_width": null,
            "order": null,
            "_view_module_version": "1.2.0",
            "grid_template_areas": null,
            "object_position": null,
            "object_fit": null,
            "grid_auto_columns": null,
            "margin": null,
            "display": null,
            "left": null
          }
        },
        "94f413b625af455491c1c9cfafbb8dbb": {
          "model_module": "@jupyter-widgets/controls",
          "model_name": "ProgressStyleModel",
          "model_module_version": "1.5.0",
          "state": {
            "_view_name": "StyleView",
            "_model_name": "ProgressStyleModel",
            "description_width": "",
            "_view_module": "@jupyter-widgets/base",
            "_model_module_version": "1.5.0",
            "_view_count": null,
            "_view_module_version": "1.2.0",
            "bar_color": null,
            "_model_module": "@jupyter-widgets/controls"
          }
        },
        "ab5d82bf789c448e9112fad9b9f46068": {
          "model_module": "@jupyter-widgets/base",
          "model_name": "LayoutModel",
          "model_module_version": "1.2.0",
          "state": {
            "_view_name": "LayoutView",
            "grid_template_rows": null,
            "right": null,
            "justify_content": null,
            "_view_module": "@jupyter-widgets/base",
            "overflow": null,
            "_model_module_version": "1.2.0",
            "_view_count": null,
            "flex_flow": null,
            "width": null,
            "min_width": null,
            "border": null,
            "align_items": null,
            "bottom": null,
            "_model_module": "@jupyter-widgets/base",
            "top": null,
            "grid_column": null,
            "overflow_y": null,
            "overflow_x": null,
            "grid_auto_flow": null,
            "grid_area": null,
            "grid_template_columns": null,
            "flex": null,
            "_model_name": "LayoutModel",
            "justify_items": null,
            "grid_row": null,
            "max_height": null,
            "align_content": null,
            "visibility": null,
            "align_self": null,
            "height": null,
            "min_height": null,
            "padding": null,
            "grid_auto_rows": null,
            "grid_gap": null,
            "max_width": null,
            "order": null,
            "_view_module_version": "1.2.0",
            "grid_template_areas": null,
            "object_position": null,
            "object_fit": null,
            "grid_auto_columns": null,
            "margin": null,
            "display": null,
            "left": null
          }
        },
        "199b23e0b2ad48a19695f214901b5f5d": {
          "model_module": "@jupyter-widgets/controls",
          "model_name": "DescriptionStyleModel",
          "model_module_version": "1.5.0",
          "state": {
            "_view_name": "StyleView",
            "_model_name": "DescriptionStyleModel",
            "description_width": "",
            "_view_module": "@jupyter-widgets/base",
            "_model_module_version": "1.5.0",
            "_view_count": null,
            "_view_module_version": "1.2.0",
            "_model_module": "@jupyter-widgets/controls"
          }
        },
        "cc287802cbf64f158edff55f7f301dd2": {
          "model_module": "@jupyter-widgets/base",
          "model_name": "LayoutModel",
          "model_module_version": "1.2.0",
          "state": {
            "_view_name": "LayoutView",
            "grid_template_rows": null,
            "right": null,
            "justify_content": null,
            "_view_module": "@jupyter-widgets/base",
            "overflow": null,
            "_model_module_version": "1.2.0",
            "_view_count": null,
            "flex_flow": null,
            "width": null,
            "min_width": null,
            "border": null,
            "align_items": null,
            "bottom": null,
            "_model_module": "@jupyter-widgets/base",
            "top": null,
            "grid_column": null,
            "overflow_y": null,
            "overflow_x": null,
            "grid_auto_flow": null,
            "grid_area": null,
            "grid_template_columns": null,
            "flex": null,
            "_model_name": "LayoutModel",
            "justify_items": null,
            "grid_row": null,
            "max_height": null,
            "align_content": null,
            "visibility": null,
            "align_self": null,
            "height": null,
            "min_height": null,
            "padding": null,
            "grid_auto_rows": null,
            "grid_gap": null,
            "max_width": null,
            "order": null,
            "_view_module_version": "1.2.0",
            "grid_template_areas": null,
            "object_position": null,
            "object_fit": null,
            "grid_auto_columns": null,
            "margin": null,
            "display": null,
            "left": null
          }
        }
      }
    },
    "accelerator": "GPU"
  },
  "cells": [
    {
      "cell_type": "markdown",
      "metadata": {
        "id": "view-in-github",
        "colab_type": "text"
      },
      "source": [
        "<a href=\"https://colab.research.google.com/github/DeepArt84/Artability/blob/main/Artability_speechRecognition_wav2vec_huggingface.ipynb\" target=\"_parent\"><img src=\"https://colab.research.google.com/assets/colab-badge.svg\" alt=\"Open In Colab\"/></a>"
      ]
    },
    {
      "cell_type": "markdown",
      "metadata": {
        "id": "9ObvuKqFqvpE"
      },
      "source": [
        "\n",
        "# Creating Captions with Wav2Vec\n",
        "\n",
        "---"
      ]
    },
    {
      "cell_type": "markdown",
      "metadata": {
        "id": "nG3sw6CGrN-6"
      },
      "source": [
        "## Setup\n",
        "\n",
        "---"
      ]
    },
    {
      "cell_type": "code",
      "metadata": {
        "colab": {
          "base_uri": "https://localhost:8080/"
        },
        "id": "nctvDSx9pQ28",
        "outputId": "473f2ae6-3679-44b6-9182-d3f62f9b0a26"
      },
      "source": [
        "!pip -q install transformers\n",
        "!pip -q install youtube_dl"
      ],
      "execution_count": null,
      "outputs": [
        {
          "output_type": "stream",
          "name": "stdout",
          "text": [
            "\u001b[K     |████████████████████████████████| 2.9 MB 5.3 MB/s \n",
            "\u001b[K     |████████████████████████████████| 3.3 MB 37.1 MB/s \n",
            "\u001b[K     |████████████████████████████████| 895 kB 48.7 MB/s \n",
            "\u001b[K     |████████████████████████████████| 596 kB 44.9 MB/s \n",
            "\u001b[K     |████████████████████████████████| 56 kB 4.4 MB/s \n",
            "\u001b[K     |████████████████████████████████| 1.9 MB 5.2 MB/s \n",
            "\u001b[?25h"
          ]
        }
      ]
    },
    {
      "cell_type": "code",
      "metadata": {
        "colab": {
          "base_uri": "https://localhost:8080/"
        },
        "id": "m6HYcU4Vr7HD",
        "outputId": "6ce10858-cb3b-418d-cb1b-b4c897133715"
      },
      "source": [
        "from transformers import Wav2Vec2Tokenizer, Wav2Vec2ForCTC\n",
        "from IPython.display import Audio\n",
        "\n",
        "import moviepy.editor as mp\n",
        "import torch\n",
        "import librosa\n",
        "import os"
      ],
      "execution_count": null,
      "outputs": [
        {
          "output_type": "stream",
          "name": "stdout",
          "text": [
            "Imageio: 'ffmpeg-linux64-v3.3.1' was not found on your computer; downloading it now.\n",
            "Try 1. Download from https://github.com/imageio/imageio-binaries/raw/master/ffmpeg/ffmpeg-linux64-v3.3.1 (43.8 MB)\n",
            "Downloading: 8192/45929032 bytes (0.0%)\b\b\b\b\b\b\b\b\b\b\b\b\b\b\b\b\b\b\b\b\b\b\b\b\b\b2539520/45929032 bytes (5.5%)\b\b\b\b\b\b\b\b\b\b\b\b\b\b\b\b\b\b\b\b\b\b\b\b\b\b\b\b\b5799936/45929032 bytes (12.6%)\b\b\b\b\b\b\b\b\b\b\b\b\b\b\b\b\b\b\b\b\b\b\b\b\b\b\b\b\b\b9052160/45929032 bytes (19.7%)\b\b\b\b\b\b\b\b\b\b\b\b\b\b\b\b\b\b\b\b\b\b\b\b\b\b\b\b\b\b12066816/45929032 bytes (26.3%)\b\b\b\b\b\b\b\b\b\b\b\b\b\b\b\b\b\b\b\b\b\b\b\b\b\b\b\b\b\b\b15310848/45929032 bytes (33.3%)\b\b\b\b\b\b\b\b\b\b\b\b\b\b\b\b\b\b\b\b\b\b\b\b\b\b\b\b\b\b\b18489344/45929032 bytes (40.3%)\b\b\b\b\b\b\b\b\b\b\b\b\b\b\b\b\b\b\b\b\b\b\b\b\b\b\b\b\b\b\b21741568/45929032 bytes (47.3%)\b\b\b\b\b\b\b\b\b\b\b\b\b\b\b\b\b\b\b\b\b\b\b\b\b\b\b\b\b\b\b25133056/45929032 bytes (54.7%)\b\b\b\b\b\b\b\b\b\b\b\b\b\b\b\b\b\b\b\b\b\b\b\b\b\b\b\b\b\b\b28467200/45929032 bytes (62.0%)\b\b\b\b\b\b\b\b\b\b\b\b\b\b\b\b\b\b\b\b\b\b\b\b\b\b\b\b\b\b\b31293440/45929032 bytes (68.1%)\b\b\b\b\b\b\b\b\b\b\b\b\b\b\b\b\b\b\b\b\b\b\b\b\b\b\b\b\b\b\b34734080/45929032 bytes (75.6%)\b\b\b\b\b\b\b\b\b\b\b\b\b\b\b\b\b\b\b\b\b\b\b\b\b\b\b\b\b\b\b38100992/45929032 bytes (83.0%)\b\b\b\b\b\b\b\b\b\b\b\b\b\b\b\b\b\b\b\b\b\b\b\b\b\b\b\b\b\b\b41467904/45929032 bytes (90.3%)\b\b\b\b\b\b\b\b\b\b\b\b\b\b\b\b\b\b\b\b\b\b\b\b\b\b\b\b\b\b\b44736512/45929032 bytes (97.4%)\b\b\b\b\b\b\b\b\b\b\b\b\b\b\b\b\b\b\b\b\b\b\b\b\b\b\b\b\b\b\b45929032/45929032 bytes (100.0%)\n",
            "  Done\n",
            "File saved as /root/.imageio/ffmpeg/ffmpeg-linux64-v3.3.1.\n"
          ]
        }
      ]
    },
    {
      "cell_type": "markdown",
      "metadata": {
        "id": "Npi9t6uCr6jN"
      },
      "source": [
        "## Get Clip\n",
        "\n",
        "---"
      ]
    },
    {
      "cell_type": "code",
      "metadata": {
        "id": "cAyYM9XPs05q"
      },
      "source": [
        "\n",
        "clip = \"/content/olayan.mp4\"\n",
        "\n",
        "# Substitue below for start/end seconds\n",
        "start = 0\n",
        "end = 10"
      ],
      "execution_count": null,
      "outputs": []
    },
    {
      "cell_type": "code",
      "metadata": {
        "colab": {
          "base_uri": "https://localhost:8080/"
        },
        "id": "JRK1o1DitfTM",
        "outputId": "dbff2c71-f544-4529-8f10-a3895e22330b"
      },
      "source": [
        "# Download the clip as mp4 & rename it for usability\n",
        "os.system('youtube-dl {} --recode-video mp4'.format(clip))\n",
        "os.system('mv *.mp4 olayan.mp4')"
      ],
      "execution_count": null,
      "outputs": [
        {
          "output_type": "execute_result",
          "data": {
            "text/plain": [
              "256"
            ]
          },
          "metadata": {},
          "execution_count": 4
        }
      ]
    },
    {
      "cell_type": "markdown",
      "metadata": {
        "id": "wNrrqoCZvVAs"
      },
      "source": [
        "## Model and tokenizer\n",
        "\n",
        "---"
      ]
    },
    {
      "cell_type": "markdown",
      "metadata": {
        "id": "URLRwAb_vYFx"
      },
      "source": [
        "Load the Wav2Vec model from 🤗 Transformers. See [here](https://huggingface.co/transformers/model_doc/wav2vec2.html) for the models documentation."
      ]
    },
    {
      "cell_type": "code",
      "metadata": {
        "colab": {
          "base_uri": "https://localhost:8080/",
          "height": 282,
          "referenced_widgets": [
            "379c48bd97384732ae4b3bba49d3d18a",
            "b887e9cc44294d41b13b8c4dac112ff5",
            "418af0729e1f45eab50d4a0b5aec37bb",
            "eddbac65b7804fb6b1a9b61c6c116dec",
            "b5153a61289c4db389d77c042a44ed99",
            "f3860697ee204ad78c5f6b9625285a44",
            "9b642ca035a941dc8bf28ff93c4eed9d",
            "50b1d2f2f06447518348d0849ac52c0e",
            "c1c2528861324ca8a7e6d021c08b58a1",
            "d038ce1dd3ca44dd9038b75007bdc231",
            "1d31e8e359c642a8837fb4b681ad655b",
            "71217aba389348a9b1405fcd855fddb6",
            "e13812d96b0548a7bb9ba3e53dd80ecc",
            "cb6774651684443fa43582bdfb04fdd3",
            "5d913c2259a94613914524d12501ecbb",
            "440e6f5ca66c43799b0b449ad5a50e32",
            "0856c0be77bf465090654ea703f4355a",
            "4f9f13a066f34ba6b8c136107aad0f18",
            "8cafc2a3ddfa492e8b4ba3439ad3d88a",
            "183dbb6e25014d059957dbc356655dbf",
            "cf9883c4a5d84a029de62125490820d4",
            "b143ca496b794d928d06b53a1d4935b9",
            "0428ce186bf5438b9102cdb624bcb252",
            "c1cbea4777034cf5a80b8233fae120cf",
            "0884f3f2f6f442f9a12ba531d6b651a1",
            "1983518dbf0e4d0daadc7ec384dd7d73",
            "9a35b2e8bcc84d119bf42598d7ea7402",
            "951dec9536e046838cb2bb8c3e097ced",
            "096d932ecdcc43dd80621254255c793c",
            "ac150db878c8435886df62d692c4264e",
            "3c000d7f00b64ba2a001012deba1226d",
            "a3e96ac3801e4c7bac354b570d7a2870",
            "795b7caa88d2448299454dc17a867589",
            "00093bd477304a98ab188a8001ee028d",
            "3f01991101f646299aedf6306ac0b75f",
            "18b5c60b3c434a1289f255c184321187",
            "71d4e06cd15b469988d6aabc8f9076ff",
            "98e75b6928314a7590cbb7728180ff63",
            "70a79cf0ccda49499caa132d3f5036fa",
            "437055079bc548d59e25dc09e1f9cf85",
            "64e91fd2dce9418186724bd4df842bfb",
            "59f7beefc897471ab0cc1e730d873741",
            "3af661eb36994e0b86604419f2f7d330",
            "eade3b7e45f24e3e86bab60a2adbad54",
            "257f85ca9d234eeb92b23be1b429c8b7",
            "a1a4deabd7f84fa2ae91e8be818ea8dd",
            "796dacde3b3b4361a78cc8b0a808f184",
            "24da1dcea3f04a5e9cc870c7e82cffa2",
            "d06e0c4308d94d13abd52eecf2375e38",
            "857d4105acf941f0b6c30ac55a7b665c",
            "a55d37d7871447a09820712d01beb827",
            "94f413b625af455491c1c9cfafbb8dbb",
            "ab5d82bf789c448e9112fad9b9f46068",
            "199b23e0b2ad48a19695f214901b5f5d",
            "cc287802cbf64f158edff55f7f301dd2"
          ]
        },
        "id": "NXZJng_hvV3H",
        "outputId": "243f3536-a91e-4f8e-f387-23554737298a"
      },
      "source": [
        "# Load Wav2Vec from huggingface\n",
        "tokenizer = Wav2Vec2Tokenizer.from_pretrained(\"facebook/wav2vec2-base-960h\")\n",
        "model = Wav2Vec2ForCTC.from_pretrained(\"facebook/wav2vec2-base-960h\")"
      ],
      "execution_count": null,
      "outputs": [
        {
          "output_type": "display_data",
          "data": {
            "application/vnd.jupyter.widget-view+json": {
              "model_id": "379c48bd97384732ae4b3bba49d3d18a",
              "version_minor": 0,
              "version_major": 2
            },
            "text/plain": [
              "Downloading:   0%|          | 0.00/291 [00:00<?, ?B/s]"
            ]
          },
          "metadata": {}
        },
        {
          "output_type": "display_data",
          "data": {
            "application/vnd.jupyter.widget-view+json": {
              "model_id": "71217aba389348a9b1405fcd855fddb6",
              "version_minor": 0,
              "version_major": 2
            },
            "text/plain": [
              "Downloading:   0%|          | 0.00/163 [00:00<?, ?B/s]"
            ]
          },
          "metadata": {}
        },
        {
          "output_type": "display_data",
          "data": {
            "application/vnd.jupyter.widget-view+json": {
              "model_id": "0428ce186bf5438b9102cdb624bcb252",
              "version_minor": 0,
              "version_major": 2
            },
            "text/plain": [
              "Downloading:   0%|          | 0.00/85.0 [00:00<?, ?B/s]"
            ]
          },
          "metadata": {}
        },
        {
          "output_type": "display_data",
          "data": {
            "application/vnd.jupyter.widget-view+json": {
              "model_id": "00093bd477304a98ab188a8001ee028d",
              "version_minor": 0,
              "version_major": 2
            },
            "text/plain": [
              "Downloading:   0%|          | 0.00/1.56k [00:00<?, ?B/s]"
            ]
          },
          "metadata": {}
        },
        {
          "output_type": "stream",
          "name": "stderr",
          "text": [
            "The tokenizer class you load from this checkpoint is not the same type as the class this function is called from. It may result in unexpected tokenization. \n",
            "The tokenizer class you load from this checkpoint is 'Wav2Vec2CTCTokenizer'. \n",
            "The class this function is called from is 'Wav2Vec2Tokenizer'.\n"
          ]
        },
        {
          "output_type": "display_data",
          "data": {
            "application/vnd.jupyter.widget-view+json": {
              "model_id": "257f85ca9d234eeb92b23be1b429c8b7",
              "version_minor": 0,
              "version_major": 2
            },
            "text/plain": [
              "Downloading:   0%|          | 0.00/360M [00:00<?, ?B/s]"
            ]
          },
          "metadata": {}
        },
        {
          "output_type": "stream",
          "name": "stderr",
          "text": [
            "Some weights of Wav2Vec2ForCTC were not initialized from the model checkpoint at facebook/wav2vec2-base-960h and are newly initialized: ['wav2vec2.masked_spec_embed']\n",
            "You should probably TRAIN this model on a down-stream task to be able to use it for predictions and inference.\n"
          ]
        }
      ]
    },
    {
      "cell_type": "markdown",
      "metadata": {
        "id": "P98J77f6tbD2"
      },
      "source": [
        "## Extract Audio\n",
        "\n",
        "---"
      ]
    },
    {
      "cell_type": "markdown",
      "metadata": {
        "id": "crEfXw7tvl35"
      },
      "source": [
        "First we'll extract the audio in mp3 format from the clip, as the Wav2Vec models expects audio input. We do this in subclips of 10 second length to save some memory lateron. "
      ]
    },
    {
      "cell_type": "code",
      "metadata": {
        "colab": {
          "base_uri": "https://localhost:8080/"
        },
        "id": "a6Df9DuWvG57",
        "outputId": "633d0e94-c667-4fb9-9cb6-ece1a0a973e4"
      },
      "source": [
        "clip = mp.VideoFileClip(\"olayan.mp4\")\n",
        "end = min(clip.duration, end)\n",
        "\n",
        "# Save the paths for later\n",
        "clip_paths = []\n",
        "\n",
        "# Extract Audio-only from mp4\n",
        "for i in range(start, int(end), 10):\n",
        "  sub_end = min(i+10, end)\n",
        "  sub_clip = clip.subclip(i,sub_end)\n",
        "\n",
        "  sub_clip.audio.write_audiofile(\"audio_\" + str(i) + \".mp3\")\n",
        "  clip_paths.append(\"audio_\" + str(i) + \".mp3\")"
      ],
      "execution_count": null,
      "outputs": [
        {
          "output_type": "stream",
          "name": "stdout",
          "text": [
            "[MoviePy] Writing audio in audio_0.mp3\n"
          ]
        },
        {
          "output_type": "stream",
          "name": "stderr",
          "text": [
            "100%|██████████| 121/121 [00:00<00:00, 979.08it/s] "
          ]
        },
        {
          "output_type": "stream",
          "name": "stdout",
          "text": [
            "[MoviePy] Done.\n"
          ]
        },
        {
          "output_type": "stream",
          "name": "stderr",
          "text": [
            "\n"
          ]
        }
      ]
    },
    {
      "cell_type": "code",
      "metadata": {
        "colab": {
          "base_uri": "https://localhost:8080/",
          "height": 75
        },
        "id": "eAUMoKrbzVWy",
        "outputId": "6168f8eb-5755-4025-e37a-eb7ebb986fe2"
      },
      "source": [
        "# Play Audio \n",
        "Audio(clip_paths[0])"
      ],
      "execution_count": null,
      "outputs": [
        {
          "output_type": "execute_result",
          "data": {
            "text/html": [
              "\n",
              "                <audio controls=\"controls\" >\n",
              "                    <source src=\"data:audio/mpeg;base64,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\" type=\"audio/mpeg\" />\n",
              "                    Your browser does not support the audio element.\n",
              "                </audio>\n",
              "              "
            ],
            "text/plain": [
              "<IPython.lib.display.Audio object>"
            ]
          },
          "metadata": {},
          "execution_count": 7
        }
      ]
    },
    {
      "cell_type": "markdown",
      "metadata": {
        "id": "Fnr7uduAwMeT"
      },
      "source": [
        "## Transcribe Audio\n",
        "\n",
        "---"
      ]
    },
    {
      "cell_type": "markdown",
      "metadata": {
        "id": "iYwp2dJ9wP9E"
      },
      "source": [
        "The last step is turning the Audio into text! The Wav2Vec model does most of the job here for us. We do each 10-second clip one-by-one to save memory."
      ]
    },
    {
      "cell_type": "code",
      "metadata": {
        "id": "yRyfVsqeslc-"
      },
      "source": [
        "cc = \"\"\n",
        "\n",
        "for path in clip_paths:\n",
        "    # Load the audio with the librosa library\n",
        "    input_audio, _ = librosa.load(path, \n",
        "                                sr=16000)\n",
        "\n",
        "    # Tokenize the audio\n",
        "    input_values = tokenizer(input_audio, return_tensors=\"pt\", padding=\"longest\").input_values\n",
        "\n",
        "    # Feed it through Wav2Vec & choose the most probable tokens\n",
        "    with torch.no_grad():\n",
        "      logits = model(input_values).logits\n",
        "      predicted_ids = torch.argmax(logits, dim=-1)\n",
        "\n",
        "    # Decode & add to our caption string\n",
        "    transcription = tokenizer.batch_decode(predicted_ids)[0]\n",
        "    cc += transcription + \" \""
      ],
      "execution_count": null,
      "outputs": []
    },
    {
      "cell_type": "code",
      "metadata": {
        "colab": {
          "base_uri": "https://localhost:8080/"
        },
        "id": "nzE6ZCHswxJZ",
        "outputId": "0c64fa01-980d-489a-d4bb-435410b2142e"
      },
      "source": [
        "# Here's your caption!\n",
        "# Note that there may be mistakes especially if the audio is noisy or there are uncommon words\n",
        "# If you picked the default video and change start to 0, you will see that the model gets confused by the word \"Anakin\"\n",
        "print(cc)"
      ],
      "execution_count": null,
      "outputs": [
        {
          "output_type": "stream",
          "name": "stdout",
          "text": [
            "fantasy colors with a dream in the space\n"
          ]
        }
      ]
    }
  ]
}